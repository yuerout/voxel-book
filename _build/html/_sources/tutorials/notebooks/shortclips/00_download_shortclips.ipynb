{
  "cells": [
    {
      "cell_type": "markdown",
      "metadata": {},
      "source": [
        "\n",
        "# Download the data set\n",
        "\n",
        "In this script, we download the data set from Wasabi or GIN. No account is\n",
        "required.\n",
        "\n",
        "## Cite this data set\n",
        "\n",
        "This tutorial is based on publicly available data [published on GIN](https://gin.g-node.org/gallantlab/shortclips). If you publish any work using\n",
        "this data set, please cite the original publication {ref}`[1]<huth2012>`, and the data set\n",
        "{ref}`[2]<huth2022>`.\n"
      ]
    },
    {
      "cell_type": "code",
      "execution_count": null,
      "metadata": {
        "collapsed": false
      },
      "outputs": [],
      "source": []
    },
    {
      "cell_type": "markdown",
      "metadata": {},
      "source": [
        "## Download\n",
        "\n"
      ]
    },
    {
      "cell_type": "code",
      "execution_count": 4,
      "metadata": {
        "collapsed": false
      },
      "outputs": [
        {
          "name": "stdout",
          "output_type": "stream",
          "text": [
            "/home/jlg/yuerou/voxelwise_tutorials_data/shortclips\n"
          ]
        }
      ],
      "source": [
        "# path of the data directory\n",
        "from voxelwise_tutorials.io import get_data_home\n",
        "directory = get_data_home(dataset=\"shortclips\")\n",
        "print(directory)"
      ]
    },
    {
      "cell_type": "markdown",
      "metadata": {},
      "source": [
        "We will only use the first subject in this tutorial, but you can run the same\n",
        "analysis on the four other subjects. Uncomment the lines in ``DATAFILES`` to\n",
        "download more subjects.\n",
        "\n",
        "We also skip the stimuli files, since the dataset provides two preprocessed\n",
        "feature spaces to perform voxelwise modeling without requiring the original\n",
        "stimuli.\n",
        "\n"
      ]
    },
    {
      "cell_type": "code",
      "execution_count": 5,
      "metadata": {
        "collapsed": false
      },
      "outputs": [
        {
          "name": "stderr",
          "output_type": "stream",
          "text": [
            "[INFO] Attempting a clone into /home/jlg/yuerou/voxelwise_tutorials_data/shortclips \n",
            "[INFO] Attempting to clone from https://gin.g-node.org/gallantlab/shortclips to /home/jlg/yuerou/voxelwise_tutorials_data/shortclips \n",
            "[INFO] Start enumerating objects \n",
            "[INFO] Start counting objects \n",
            "[INFO] Start compressing objects \n",
            "[INFO] Start receiving objects \n",
            "[INFO] Start resolving deltas \n",
            "[INFO] Completed clone attempts for Dataset(/home/jlg/yuerou/voxelwise_tutorials_data/shortclips) \n",
            "[INFO] access to 1 dataset sibling gin-src not auto-enabled, enable with:\n",
            "| \t\tdatalad siblings -d \"/home/jlg/yuerou/voxelwise_tutorials_data/shortclips\" enable -s gin-src \n"
          ]
        },
        {
          "name": "stdout",
          "output_type": "stream",
          "text": [
            "install(ok): /home/jlg/yuerou/voxelwise_tutorials_data/shortclips (dataset)\n",
            "get(ok): features/motion_energy.hdf (file) [from wasabi...]\n",
            "get(ok): features/wordnet.hdf (file) [from wasabi...]\n",
            "get(ok): mappers/S01_mappers.hdf (file) [from wasabi...]\n",
            "get(ok): responses/S01_responses.hdf (file) [from wasabi...]\n"
          ]
        }
      ],
      "source": [
        "from voxelwise_tutorials.io import download_datalad\n",
        "\n",
        "DATAFILES = [\n",
        "    \"features/motion_energy.hdf\",\n",
        "    \"features/wordnet.hdf\",\n",
        "    \"mappers/S01_mappers.hdf\",\n",
        "    # \"mappers/S02_mappers.hdf\",\n",
        "    # \"mappers/S03_mappers.hdf\",\n",
        "    # \"mappers/S04_mappers.hdf\",\n",
        "    # \"mappers/S05_mappers.hdf\",\n",
        "    \"responses/S01_responses.hdf\",\n",
        "    # \"responses/S02_responses.hdf\",\n",
        "    # \"responses/S03_responses.hdf\",\n",
        "    # \"responses/S04_responses.hdf\",\n",
        "    # \"responses/S05_responses.hdf\",\n",
        "    # \"stimuli/test.hdf\",\n",
        "    # \"stimuli/train_00.hdf\",\n",
        "    # \"stimuli/train_01.hdf\",\n",
        "    # \"stimuli/train_02.hdf\",\n",
        "    # \"stimuli/train_03.hdf\",\n",
        "    # \"stimuli/train_04.hdf\",\n",
        "    # \"stimuli/train_05.hdf\",\n",
        "    # \"stimuli/train_06.hdf\",\n",
        "    # \"stimuli/train_07.hdf\",\n",
        "    # \"stimuli/train_08.hdf\",\n",
        "    # \"stimuli/train_09.hdf\",\n",
        "    # \"stimuli/train_10.hdf\",\n",
        "    # \"stimuli/train_11.hdf\",\n",
        "]\n",
        "\n",
        "source = \"https://gin.g-node.org/gallantlab/shortclips\"\n",
        "\n",
        "for datafile in DATAFILES:\n",
        "    local_filename = download_datalad(datafile, destination=directory,\n",
        "                                      source=source)"
      ]
    },
    {
      "cell_type": "markdown",
      "metadata": {},
      "source": [
        "## References\n",
        "\n",
        "(huth2012)=\n",
        "[1] Huth, A. G., Nishimoto, S., Vu, A. T., & Gallant, J. L. (2012). A\n",
        "    continuous semantic space describes the representation of thousands of\n",
        "    object and action categories across the human brain. Neuron, 76(6),\n",
        "    1210-1224.\n",
        "\n",
        "(huth2022)=\n",
        "[2] Huth, A. G., Nishimoto, S., Vu, A. T., Dupré la Tour, T., & Gallant, J. L. (2022).\n",
        "    Gallant Lab Natural Short Clips 3T fMRI Data. http://dx.doi.org/10.12751/g-node.vy1zjd\n",
        "\n"
      ]
    },
    {
      "cell_type": "markdown",
      "metadata": {},
      "source": []
    }
  ],
  "metadata": {
    "kernelspec": {
      "display_name": "Python 3",
      "language": "python",
      "name": "python3"
    },
    "language_info": {
      "codemirror_mode": {
        "name": "ipython",
        "version": 3
      },
      "file_extension": ".py",
      "mimetype": "text/x-python",
      "name": "python",
      "nbconvert_exporter": "python",
      "pygments_lexer": "ipython3",
      "version": "3.9.-1"
    }
  },
  "nbformat": 4,
  "nbformat_minor": 0
}
