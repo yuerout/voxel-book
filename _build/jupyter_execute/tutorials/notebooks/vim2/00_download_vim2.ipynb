{
 "cells": [
  {
   "cell_type": "markdown",
   "metadata": {},
   "source": [
    "\n",
    "# Download the data set from CRCNS\n",
    "\n",
    "In this script, we download the data set from CRCNS.\n",
    "A (free) account is required.\n",
    "\n",
    "## Cite this data set\n",
    "\n",
    "This tutorial is based on publicly available data\n",
    "[published on CRCNS](https://crcns.org/data-sets/vc/vim-2/about-vim-2).\n",
    "If you publish any work using this data set, please cite the original\n",
    "publication [1]_, and the data set [2]_.\n"
   ]
  },
  {
   "cell_type": "code",
   "execution_count": null,
   "metadata": {
    "collapsed": false
   },
   "outputs": [],
   "source": []
  },
  {
   "cell_type": "markdown",
   "metadata": {},
   "source": [
    "## Download\n",
    "\n"
   ]
  },
  {
   "cell_type": "code",
   "execution_count": 1,
   "metadata": {
    "collapsed": false
   },
   "outputs": [
    {
     "ename": "ModuleNotFoundError",
     "evalue": "No module named 'voxelwise_tutorials'",
     "output_type": "error",
     "traceback": [
      "\u001b[1;31m---------------------------------------------------------------------------\u001b[0m",
      "\u001b[1;31mModuleNotFoundError\u001b[0m                       Traceback (most recent call last)",
      "Cell \u001b[1;32mIn[1], line 2\u001b[0m\n\u001b[0;32m      1\u001b[0m \u001b[38;5;66;03m# path of the data directory\u001b[39;00m\n\u001b[1;32m----> 2\u001b[0m \u001b[38;5;28;01mfrom\u001b[39;00m \u001b[38;5;21;01mvoxelwise_tutorials\u001b[39;00m\u001b[38;5;21;01m.\u001b[39;00m\u001b[38;5;21;01mio\u001b[39;00m \u001b[38;5;28;01mimport\u001b[39;00m get_data_home\n\u001b[0;32m      3\u001b[0m directory \u001b[38;5;241m=\u001b[39m get_data_home(dataset\u001b[38;5;241m=\u001b[39m\u001b[38;5;124m\"\u001b[39m\u001b[38;5;124mvim-2\u001b[39m\u001b[38;5;124m\"\u001b[39m)\n\u001b[0;32m      4\u001b[0m \u001b[38;5;28mprint\u001b[39m(directory)\n",
      "\u001b[1;31mModuleNotFoundError\u001b[0m: No module named 'voxelwise_tutorials'"
     ]
    }
   ],
   "source": [
    "# path of the data directory\n",
    "from voxelwise_tutorials.io import get_data_home\n",
    "directory = get_data_home(dataset=\"vim-2\")\n",
    "print(directory)"
   ]
  },
  {
   "cell_type": "markdown",
   "metadata": {},
   "source": [
    "We will only use the first subject in this tutorial, but you can run the same\n",
    "analysis on the two other subjects. Uncomment the lines in ``DATAFILES`` to\n",
    "download more subjects, or to download the anatomy files.\n",
    "\n"
   ]
  },
  {
   "cell_type": "code",
   "execution_count": null,
   "metadata": {
    "collapsed": false
   },
   "outputs": [],
   "source": [
    "import getpass\n",
    "\n",
    "from voxelwise_tutorials.io import download_crcns\n",
    "\n",
    "DATAFILES = [\n",
    "    'vim-2/Stimuli.tar.gz',\n",
    "    'vim-2/VoxelResponses_subject1.tar.gz',\n",
    "    # 'vim-2/VoxelResponses_subject2.tar.gz',\n",
    "    # 'vim-2/VoxelResponses_subject3.tar.gz',\n",
    "    # 'vim-2/anatomy.zip',\n",
    "    # 'vim-2/checksums.md5',\n",
    "    # 'vim-2/filelist.txt',\n",
    "    # 'vim-2/docs/crcns-vim-2-data-description.pdf',\n",
    "]"
   ]
  },
  {
   "cell_type": "code",
   "execution_count": null,
   "metadata": {
    "collapsed": false
   },
   "outputs": [],
   "source": [
    "username = input(\"CRCNS username: \")\n",
    "password = getpass.getpass(\"CRCNS password: \")\n",
    "\n",
    "for datafile in DATAFILES:\n",
    "    local_filename = download_crcns(datafile, username, password,\n",
    "                                    destination=directory, unpack=True)"
   ]
  },
  {
   "cell_type": "markdown",
   "metadata": {},
   "source": [
    "## References\n",
    "\n",
    ".. [1] Nishimoto, S., Vu, A. T., Naselaris, T., Benjamini, Y., Yu, B., &\n",
    "    Gallant, J. L. (2011). Reconstructing visual experiences from brain\n",
    "    activity evoked by natural movies. Current Biology, 21(19), 1641-1646.\n",
    "\n",
    ".. [2] Nishimoto, S., Vu, A. T., Naselaris, T., Benjamini, Y., Yu, B., &\n",
    "    Gallant, J. L. (2014): Gallant Lab Natural Movie 4T fMRI Data. CRCNS.org.\n",
    "    http://dx.doi.org/10.6080/K00Z715X\n",
    "\n"
   ]
  }
 ],
 "metadata": {
  "kernelspec": {
   "display_name": "Python 3",
   "language": "python",
   "name": "python3"
  },
  "language_info": {
   "codemirror_mode": {
    "name": "ipython",
    "version": 3
   },
   "file_extension": ".py",
   "mimetype": "text/x-python",
   "name": "python",
   "nbconvert_exporter": "python",
   "pygments_lexer": "ipython3",
   "version": "3.12.3"
  }
 },
 "nbformat": 4,
 "nbformat_minor": 0
}