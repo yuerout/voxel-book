{
 "cells": [
  {
   "cell_type": "markdown",
   "metadata": {},
   "source": [
    "\n",
    "# Fit a ridge model with motion energy features\n",
    "\n",
    "In this example, we model the fMRI responses with motion-energy features\n",
    "extracted from the movie stimulus. The model is a regularized linear regression\n",
    "model.\n",
    "\n",
    "This tutorial reproduces part of the analysis described in Nishimoto et al\n",
    "(2011) {ref}`[1]<nishimoto2011>`. See this publication for more details about the experiment, the\n",
    "motion-energy features, along with more results and more discussions.\n",
    "\n",
    "*Motion-energy features:* Motion-energy features result from filtering a video\n",
    "stimulus with spatio-temporal Gabor filters. A pyramid of filters is used to\n",
    "compute the motion-energy features at multiple spatial and temporal scales.\n",
    "Motion-energy features were introduced in {ref}`[1]<nishimoto2011>`.\n",
    "\n",
    "*Summary:* We first concatenate the features with multiple delays, to account\n",
    "for the slow hemodynamic response. A linear regression model then weights each\n",
    "delayed feature with a different weight, to build a predictive model of BOLD\n",
    "activity. Again, the linear regression is regularized to improve robustness to\n",
    "correlated features and to improve generalization. The optimal regularization\n",
    "hyperparameter is selected independently on each voxel over a grid-search with\n",
    "cross-validation. Finally, the model generalization performance is evaluated on\n",
    "a held-out test set, comparing the model predictions with the ground-truth fMRI\n",
    "responses.\n"
   ]
  },
  {
   "cell_type": "code",
   "execution_count": null,
   "metadata": {
    "collapsed": false
   },
   "outputs": [],
   "source": []
  },
  {
   "cell_type": "markdown",
   "metadata": {},
   "source": [
    "## Load the data\n",
    "\n"
   ]
  },
  {
   "cell_type": "code",
   "execution_count": 1,
   "metadata": {
    "collapsed": false
   },
   "outputs": [
    {
     "name": "stdout",
     "output_type": "stream",
     "text": [
      "/home/jlg/yuerou/voxelwise_tutorials_data/vim-2\n"
     ]
    }
   ],
   "source": [
    "# path of the data directory\n",
    "from voxelwise_tutorials.io import get_data_home\n",
    "directory = get_data_home(dataset=\"vim-2\")\n",
    "print(directory)\n",
    "\n",
    "# modify to use another subject\n",
    "subject = \"subject1\""
   ]
  },
  {
   "cell_type": "markdown",
   "metadata": {},
   "source": [
    "Here the data is not loaded in memory, we only take a peek at the data shape.\n",
    "\n"
   ]
  },
  {
   "cell_type": "code",
   "execution_count": 2,
   "metadata": {
    "collapsed": false
   },
   "outputs": [
    {
     "ename": "FileNotFoundError",
     "evalue": "[Errno 2] Unable to synchronously open file (unable to open file: name = '/home/jlg/yuerou/voxelwise_tutorials_data/vim-2/VoxelResponses_subject1.mat', errno = 2, error message = 'No such file or directory', flags = 0, o_flags = 0)",
     "output_type": "error",
     "traceback": [
      "\u001b[0;31m---------------------------------------------------------------------------\u001b[0m",
      "\u001b[0;31mFileNotFoundError\u001b[0m                         Traceback (most recent call last)",
      "Cell \u001b[0;32mIn[2], line 5\u001b[0m\n\u001b[1;32m      2\u001b[0m \u001b[38;5;28;01mimport\u001b[39;00m \u001b[38;5;21;01mh5py\u001b[39;00m\n\u001b[1;32m      4\u001b[0m file_name \u001b[38;5;241m=\u001b[39m os\u001b[38;5;241m.\u001b[39mpath\u001b[38;5;241m.\u001b[39mjoin(directory, \u001b[38;5;124mf\u001b[39m\u001b[38;5;124m'\u001b[39m\u001b[38;5;124mVoxelResponses_\u001b[39m\u001b[38;5;132;01m{\u001b[39;00msubject\u001b[38;5;132;01m}\u001b[39;00m\u001b[38;5;124m.mat\u001b[39m\u001b[38;5;124m'\u001b[39m)\n\u001b[0;32m----> 5\u001b[0m \u001b[38;5;28;01mwith\u001b[39;00m \u001b[43mh5py\u001b[49m\u001b[38;5;241;43m.\u001b[39;49m\u001b[43mFile\u001b[49m\u001b[43m(\u001b[49m\u001b[43mfile_name\u001b[49m\u001b[43m,\u001b[49m\u001b[43m \u001b[49m\u001b[38;5;124;43m'\u001b[39;49m\u001b[38;5;124;43mr\u001b[39;49m\u001b[38;5;124;43m'\u001b[39;49m\u001b[43m)\u001b[49m \u001b[38;5;28;01mas\u001b[39;00m f:\n\u001b[1;32m      6\u001b[0m     \u001b[38;5;28mprint\u001b[39m(f\u001b[38;5;241m.\u001b[39mkeys())  \u001b[38;5;66;03m# Show all variables\u001b[39;00m\n\u001b[1;32m      7\u001b[0m     \u001b[38;5;28;01mfor\u001b[39;00m key \u001b[38;5;129;01min\u001b[39;00m f\u001b[38;5;241m.\u001b[39mkeys():\n",
      "File \u001b[0;32m~/anaconda3/envs/book5/lib/python3.9/site-packages/h5py/_hl/files.py:562\u001b[0m, in \u001b[0;36mFile.__init__\u001b[0;34m(self, name, mode, driver, libver, userblock_size, swmr, rdcc_nslots, rdcc_nbytes, rdcc_w0, track_order, fs_strategy, fs_persist, fs_threshold, fs_page_size, page_buf_size, min_meta_keep, min_raw_keep, locking, alignment_threshold, alignment_interval, meta_block_size, **kwds)\u001b[0m\n\u001b[1;32m    553\u001b[0m     fapl \u001b[38;5;241m=\u001b[39m make_fapl(driver, libver, rdcc_nslots, rdcc_nbytes, rdcc_w0,\n\u001b[1;32m    554\u001b[0m                      locking, page_buf_size, min_meta_keep, min_raw_keep,\n\u001b[1;32m    555\u001b[0m                      alignment_threshold\u001b[38;5;241m=\u001b[39malignment_threshold,\n\u001b[1;32m    556\u001b[0m                      alignment_interval\u001b[38;5;241m=\u001b[39malignment_interval,\n\u001b[1;32m    557\u001b[0m                      meta_block_size\u001b[38;5;241m=\u001b[39mmeta_block_size,\n\u001b[1;32m    558\u001b[0m                      \u001b[38;5;241m*\u001b[39m\u001b[38;5;241m*\u001b[39mkwds)\n\u001b[1;32m    559\u001b[0m     fcpl \u001b[38;5;241m=\u001b[39m make_fcpl(track_order\u001b[38;5;241m=\u001b[39mtrack_order, fs_strategy\u001b[38;5;241m=\u001b[39mfs_strategy,\n\u001b[1;32m    560\u001b[0m                      fs_persist\u001b[38;5;241m=\u001b[39mfs_persist, fs_threshold\u001b[38;5;241m=\u001b[39mfs_threshold,\n\u001b[1;32m    561\u001b[0m                      fs_page_size\u001b[38;5;241m=\u001b[39mfs_page_size)\n\u001b[0;32m--> 562\u001b[0m     fid \u001b[38;5;241m=\u001b[39m \u001b[43mmake_fid\u001b[49m\u001b[43m(\u001b[49m\u001b[43mname\u001b[49m\u001b[43m,\u001b[49m\u001b[43m \u001b[49m\u001b[43mmode\u001b[49m\u001b[43m,\u001b[49m\u001b[43m \u001b[49m\u001b[43muserblock_size\u001b[49m\u001b[43m,\u001b[49m\u001b[43m \u001b[49m\u001b[43mfapl\u001b[49m\u001b[43m,\u001b[49m\u001b[43m \u001b[49m\u001b[43mfcpl\u001b[49m\u001b[43m,\u001b[49m\u001b[43m \u001b[49m\u001b[43mswmr\u001b[49m\u001b[38;5;241;43m=\u001b[39;49m\u001b[43mswmr\u001b[49m\u001b[43m)\u001b[49m\n\u001b[1;32m    564\u001b[0m \u001b[38;5;28;01mif\u001b[39;00m \u001b[38;5;28misinstance\u001b[39m(libver, \u001b[38;5;28mtuple\u001b[39m):\n\u001b[1;32m    565\u001b[0m     \u001b[38;5;28mself\u001b[39m\u001b[38;5;241m.\u001b[39m_libver \u001b[38;5;241m=\u001b[39m libver\n",
      "File \u001b[0;32m~/anaconda3/envs/book5/lib/python3.9/site-packages/h5py/_hl/files.py:235\u001b[0m, in \u001b[0;36mmake_fid\u001b[0;34m(name, mode, userblock_size, fapl, fcpl, swmr)\u001b[0m\n\u001b[1;32m    233\u001b[0m     \u001b[38;5;28;01mif\u001b[39;00m swmr \u001b[38;5;129;01mand\u001b[39;00m swmr_support:\n\u001b[1;32m    234\u001b[0m         flags \u001b[38;5;241m|\u001b[39m\u001b[38;5;241m=\u001b[39m h5f\u001b[38;5;241m.\u001b[39mACC_SWMR_READ\n\u001b[0;32m--> 235\u001b[0m     fid \u001b[38;5;241m=\u001b[39m \u001b[43mh5f\u001b[49m\u001b[38;5;241;43m.\u001b[39;49m\u001b[43mopen\u001b[49m\u001b[43m(\u001b[49m\u001b[43mname\u001b[49m\u001b[43m,\u001b[49m\u001b[43m \u001b[49m\u001b[43mflags\u001b[49m\u001b[43m,\u001b[49m\u001b[43m \u001b[49m\u001b[43mfapl\u001b[49m\u001b[38;5;241;43m=\u001b[39;49m\u001b[43mfapl\u001b[49m\u001b[43m)\u001b[49m\n\u001b[1;32m    236\u001b[0m \u001b[38;5;28;01melif\u001b[39;00m mode \u001b[38;5;241m==\u001b[39m \u001b[38;5;124m'\u001b[39m\u001b[38;5;124mr+\u001b[39m\u001b[38;5;124m'\u001b[39m:\n\u001b[1;32m    237\u001b[0m     fid \u001b[38;5;241m=\u001b[39m h5f\u001b[38;5;241m.\u001b[39mopen(name, h5f\u001b[38;5;241m.\u001b[39mACC_RDWR, fapl\u001b[38;5;241m=\u001b[39mfapl)\n",
      "File \u001b[0;32mh5py/_objects.pyx:54\u001b[0m, in \u001b[0;36mh5py._objects.with_phil.wrapper\u001b[0;34m()\u001b[0m\n",
      "File \u001b[0;32mh5py/_objects.pyx:55\u001b[0m, in \u001b[0;36mh5py._objects.with_phil.wrapper\u001b[0;34m()\u001b[0m\n",
      "File \u001b[0;32mh5py/h5f.pyx:102\u001b[0m, in \u001b[0;36mh5py.h5f.open\u001b[0;34m()\u001b[0m\n",
      "\u001b[0;31mFileNotFoundError\u001b[0m: [Errno 2] Unable to synchronously open file (unable to open file: name = '/home/jlg/yuerou/voxelwise_tutorials_data/vim-2/VoxelResponses_subject1.mat', errno = 2, error message = 'No such file or directory', flags = 0, o_flags = 0)"
     ]
    }
   ],
   "source": [
    "import os\n",
    "import h5py\n",
    "\n",
    "file_name = os.path.join(directory, f'VoxelResponses_{subject}.mat')\n",
    "with h5py.File(file_name, 'r') as f:\n",
    "    print(f.keys())  # Show all variables\n",
    "    for key in f.keys():\n",
    "        print(f[key])"
   ]
  },
  {
   "cell_type": "markdown",
   "metadata": {},
   "source": [
    "Then we load the fMRI responses.\n",
    "\n"
   ]
  },
  {
   "cell_type": "code",
   "execution_count": null,
   "metadata": {
    "collapsed": false
   },
   "outputs": [],
   "source": [
    "import numpy as np\n",
    "\n",
    "from voxelwise_tutorials.io import load_hdf5_array\n",
    "\n",
    "file_name = os.path.join(directory, f'VoxelResponses_{subject}.mat')\n",
    "Y_train = load_hdf5_array(file_name, key='rt')\n",
    "Y_test_repeats = load_hdf5_array(file_name, key='rva')\n",
    "\n",
    "# transpose to fit in scikit-learn's API\n",
    "Y_train = Y_train.T\n",
    "Y_test_repeats = np.transpose(Y_test_repeats, [1, 2, 0])\n",
    "\n",
    "# Change to True to select only voxels from (e.g.) left V1 (\"v1lh\");\n",
    "# Otherwise, all voxels will be modeled.\n",
    "if False:\n",
    "    roi = load_hdf5_array(file_name, key='/roi/v1lh').ravel()\n",
    "    mask = (roi == 1)\n",
    "    Y_train = Y_train[:, mask]\n",
    "    Y_test_repeats = Y_test_repeats[:, :, mask]\n",
    "\n",
    "# Z-score test runs, since the mean and scale of fMRI responses changes for\n",
    "# each run. The train runs are already zscored.\n",
    "Y_test_repeats -= np.mean(Y_test_repeats, axis=1, keepdims=True)\n",
    "Y_test_repeats /= np.std(Y_test_repeats, axis=1, keepdims=True)\n",
    "\n",
    "# Average test repeats, since we cannot model the non-repeatable part of\n",
    "# fMRI responses.\n",
    "Y_test = Y_test_repeats.mean(0)\n",
    "\n",
    "# remove nans, mainly present on non-cortical voxels\n",
    "Y_train = np.nan_to_num(Y_train)\n",
    "Y_test = np.nan_to_num(Y_test)"
   ]
  },
  {
   "cell_type": "markdown",
   "metadata": {},
   "source": [
    "Here we load the motion-energy features, that are going to be used for the\n",
    "linear regression model.\n",
    "\n"
   ]
  },
  {
   "cell_type": "code",
   "execution_count": null,
   "metadata": {
    "collapsed": false
   },
   "outputs": [],
   "source": [
    "file_name = os.path.join(directory, \"features\", \"motion_energy.hdf\")\n",
    "X_train = load_hdf5_array(file_name, key='X_train')\n",
    "X_test = load_hdf5_array(file_name, key='X_test')\n",
    "\n",
    "# We use single precision float to speed up model fitting on GPU.\n",
    "X_train = X_train.astype(\"float32\")\n",
    "X_test = X_test.astype(\"float32\")"
   ]
  },
  {
   "cell_type": "markdown",
   "metadata": {},
   "source": [
    "## Define the cross-validation scheme\n",
    "\n",
    "To select the best hyperparameter through cross-validation, we must define a\n",
    "train-validation splitting scheme. Since fMRI time-series are autocorrelated\n",
    "in time, we should preserve as much as possible the time blocks.\n",
    "In other words, since consecutive time samples are correlated, we should not\n",
    "put one time sample in the training set and the immediately following time\n",
    "sample in the validation set. Thus, we define here a leave-one-run-out\n",
    "cross-validation split, which preserves each recording run.\n",
    "\n"
   ]
  },
  {
   "cell_type": "code",
   "execution_count": null,
   "metadata": {
    "collapsed": false
   },
   "outputs": [],
   "source": [
    "from sklearn.model_selection import check_cv\n",
    "from voxelwise_tutorials.utils import generate_leave_one_run_out\n",
    "\n",
    "n_samples_train = X_train.shape[0]\n",
    "\n",
    "# indice of first sample of each run, each run having 600 samples\n",
    "run_onsets = np.arange(0, n_samples_train, 600)\n",
    "\n",
    "# define a cross-validation splitter, compatible with scikit-learn\n",
    "cv = generate_leave_one_run_out(n_samples_train, run_onsets)\n",
    "cv = check_cv(cv)  # copy the splitter into a reusable list"
   ]
  },
  {
   "cell_type": "markdown",
   "metadata": {},
   "source": [
    "## Define the model\n",
    "\n",
    "Now, let's define the model pipeline.\n",
    "\n"
   ]
  },
  {
   "cell_type": "code",
   "execution_count": null,
   "metadata": {
    "collapsed": false
   },
   "outputs": [],
   "source": [
    "from sklearn.pipeline import make_pipeline\n",
    "from sklearn.preprocessing import StandardScaler\n",
    "\n",
    "# Display the scikit-learn pipeline with an HTML diagram.\n",
    "from sklearn import set_config\n",
    "set_config(display='diagram')  # requires scikit-learn 0.23"
   ]
  },
  {
   "cell_type": "markdown",
   "metadata": {},
   "source": [
    "With one target, we could directly use the pipeline in scikit-learn's\n",
    "GridSearchCV, to select the optimal hyperparameters over cross-validation.\n",
    "However, GridSearchCV can only optimize one score. Thus, in the multiple\n",
    "target case, GridSearchCV can only optimize e.g. the mean score over targets.\n",
    "Here, we want to find a different optimal hyperparameter per target/voxel, so\n",
    "we use himalaya's KernelRidgeCV instead.\n",
    "\n"
   ]
  },
  {
   "cell_type": "code",
   "execution_count": null,
   "metadata": {
    "collapsed": false
   },
   "outputs": [],
   "source": [
    "from himalaya.kernel_ridge import KernelRidgeCV"
   ]
  },
  {
   "cell_type": "markdown",
   "metadata": {},
   "source": [
    "We first concatenate the features with multiple delays, to account for the\n",
    "hemodynamic response. The linear regression model will then weight each\n",
    "delayed feature with a different weight, to build a predictive model.\n",
    "\n",
    "With a sample every 1 second, we use 8 delays [1, 2, 3, 4, 5, 6, 7, 8] to\n",
    "cover the most part of the hemodynamic response peak.\n",
    "\n"
   ]
  },
  {
   "cell_type": "code",
   "execution_count": null,
   "metadata": {
    "collapsed": false
   },
   "outputs": [],
   "source": [
    "from voxelwise_tutorials.delayer import Delayer"
   ]
  },
  {
   "cell_type": "markdown",
   "metadata": {},
   "source": [
    "The package``himalaya`` implements different computational backends,\n",
    "including GPU backends. The available GPU backends are \"torch_cuda\" and\n",
    "\"cupy\". (These backends are only available if you installed the corresponding\n",
    "package with CUDA enabled. Check the pytorch/cupy documentation for install\n",
    "instructions.)\n",
    "\n",
    "Here we use the \"torch_cuda\" backend, but if the import fails we continue\n",
    "with the default \"numpy\" backend. The \"numpy\" backend is expected to be\n",
    "slower since it only uses the CPU.\n",
    "\n"
   ]
  },
  {
   "cell_type": "code",
   "execution_count": null,
   "metadata": {
    "collapsed": false
   },
   "outputs": [],
   "source": [
    "from himalaya.backend import set_backend\n",
    "backend = set_backend(\"torch_cuda\", on_error=\"warn\")"
   ]
  },
  {
   "cell_type": "markdown",
   "metadata": {},
   "source": [
    "The scale of the regularization hyperparameter alpha is unknown, so we use\n",
    "a large logarithmic range, and we will check after the fit that best\n",
    "hyperparameters are not all on one range edge.\n",
    "\n"
   ]
  },
  {
   "cell_type": "code",
   "execution_count": null,
   "metadata": {
    "collapsed": false
   },
   "outputs": [],
   "source": [
    "alphas = np.logspace(1, 20, 20)"
   ]
  },
  {
   "cell_type": "markdown",
   "metadata": {},
   "source": [
    "The scikit-learn Pipeline can be used as a regular estimator, calling\n",
    "pipeline.fit, pipeline.predict, etc.\n",
    "Using a pipeline can be useful to clarify the different steps, avoid\n",
    "cross-validation mistakes, or automatically cache intermediate results.\n",
    "\n"
   ]
  },
  {
   "cell_type": "code",
   "execution_count": null,
   "metadata": {
    "collapsed": false
   },
   "outputs": [],
   "source": [
    "pipeline = make_pipeline(\n",
    "    StandardScaler(with_mean=True, with_std=False),\n",
    "    Delayer(delays=[1, 2, 3, 4, 5, 6, 7, 8]),\n",
    "    KernelRidgeCV(\n",
    "        alphas=alphas, cv=cv,\n",
    "        solver_params=dict(n_targets_batch=100, n_alphas_batch=2,\n",
    "                           n_targets_batch_refit=50),\n",
    "        Y_in_cpu=True),\n",
    ")\n",
    "pipeline"
   ]
  },
  {
   "cell_type": "markdown",
   "metadata": {},
   "source": [
    "## Fit the model\n",
    "\n",
    "We fit on the train set, and score on the test set.\n",
    "\n"
   ]
  },
  {
   "cell_type": "code",
   "execution_count": null,
   "metadata": {
    "collapsed": false
   },
   "outputs": [],
   "source": [
    "pipeline.fit(X_train, Y_train)\n",
    "\n",
    "scores = pipeline.score(X_test, Y_test)\n",
    "# Since we performed the KernelRidgeCV on GPU, scores are returned as\n",
    "# torch.Tensor on GPU. Thus, we need to move them into numpy arrays on CPU, to\n",
    "# be able to use them e.g. in a matplotlib figure.\n",
    "scores = backend.to_numpy(scores)"
   ]
  },
  {
   "cell_type": "markdown",
   "metadata": {},
   "source": [
    "Since the scale of alphas is unknown, we plot the optimal alphas selected by\n",
    "the solver over cross-validation. This plot is helpful to refine the alpha\n",
    "grid if the range is too small or too large.\n",
    "\n",
    "Note that some voxels are at the maximum regularization of the grid. These\n",
    "are voxels where the model has no predictive power, and where the optimal\n",
    "regularization is large to lead to a prediction equal to zero.\n",
    "\n"
   ]
  },
  {
   "cell_type": "code",
   "execution_count": null,
   "metadata": {
    "collapsed": false
   },
   "outputs": [],
   "source": [
    "import matplotlib.pyplot as plt\n",
    "from himalaya.viz import plot_alphas_diagnostic\n",
    "\n",
    "plot_alphas_diagnostic(best_alphas=backend.to_numpy(pipeline[-1].best_alphas_),\n",
    "                       alphas=alphas)\n",
    "plt.show()"
   ]
  },
  {
   "cell_type": "markdown",
   "metadata": {},
   "source": [
    "## Compare with a model without delays\n",
    "\n",
    "To present an example of model comparison, we define here another model,\n",
    "without feature delays (i.e. no Delayer). This model is unlikely to perform\n",
    "well, since fMRI responses are delayed in time with respect to the stimulus.\n",
    "\n"
   ]
  },
  {
   "cell_type": "code",
   "execution_count": null,
   "metadata": {
    "collapsed": false
   },
   "outputs": [],
   "source": [
    "pipeline = make_pipeline(\n",
    "    StandardScaler(with_mean=True, with_std=False),\n",
    "    KernelRidgeCV(\n",
    "        alphas=alphas, cv=cv,\n",
    "        solver_params=dict(n_targets_batch=100, n_alphas_batch=2,\n",
    "                           n_targets_batch_refit=50),\n",
    "        Y_in_cpu=True),\n",
    ")\n",
    "pipeline"
   ]
  },
  {
   "cell_type": "code",
   "execution_count": null,
   "metadata": {
    "collapsed": false
   },
   "outputs": [],
   "source": [
    "pipeline.fit(X_train, Y_train)\n",
    "scores_nodelay = pipeline.score(X_test, Y_test)\n",
    "scores_nodelay = backend.to_numpy(scores_nodelay)"
   ]
  },
  {
   "cell_type": "markdown",
   "metadata": {},
   "source": [
    "Here we plot the comparison of model performances with a 2D histogram. All\n",
    "~70k voxels are represented in this histogram, where the diagonal corresponds\n",
    "to identical performance for both models. A distribution deviating from the\n",
    "diagonal means that one model has better predictive performances than the\n",
    "other.\n",
    "\n"
   ]
  },
  {
   "cell_type": "code",
   "execution_count": null,
   "metadata": {
    "collapsed": false
   },
   "outputs": [],
   "source": [
    "from voxelwise_tutorials.viz import plot_hist2d\n",
    "\n",
    "ax = plot_hist2d(scores_nodelay, scores)\n",
    "ax.set(title='Generalization R2 scores', xlabel='model without delays',\n",
    "       ylabel='model with delays')\n",
    "plt.show()"
   ]
  },
  {
   "cell_type": "markdown",
   "metadata": {},
   "source": [
    "## References\n",
    "\n",
    "(nishimoto2011)=\n",
    "[1] Nishimoto, S., Vu, A. T., Naselaris, T., Benjamini, Y., Yu,\n",
    "    B., & Gallant, J. L. (2011). Reconstructing visual experiences from brain\n",
    "    activity evoked by natural movies. Current Biology, 21(19), 1641-1646.\n",
    "\n"
   ]
  },
  {
   "cell_type": "markdown",
   "metadata": {},
   "source": []
  }
 ],
 "metadata": {
  "kernelspec": {
   "display_name": "Python 3",
   "language": "python",
   "name": "python3"
  },
  "language_info": {
   "codemirror_mode": {
    "name": "ipython",
    "version": 3
   },
   "file_extension": ".py",
   "mimetype": "text/x-python",
   "name": "python",
   "nbconvert_exporter": "python",
   "pygments_lexer": "ipython3",
   "version": "3.9.-1"
  }
 },
 "nbformat": 4,
 "nbformat_minor": 0
}